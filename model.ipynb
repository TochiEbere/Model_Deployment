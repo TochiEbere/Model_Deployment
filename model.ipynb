{
 "cells": [
  {
   "cell_type": "code",
   "execution_count": 1,
   "metadata": {},
   "outputs": [],
   "source": [
    "# Import libraries\n",
    "import numpy as np\n",
    "import pandas as pd\n",
    "from math import sqrt\n",
    "\n",
    "from sklearn.model_selection import train_test_split\n",
    "from sklearn.linear_model import Lasso, Ridge, ElasticNet\n",
    "from sklearn.metrics import mean_absolute_error, mean_squared_error\n",
    "from sklearn.preprocessing import StandardScaler, RobustScaler\n",
    "import pickle\n",
    "import joblib\n",
    "import matplotlib.pyplot as plt"
   ]
  },
  {
   "cell_type": "code",
   "execution_count": 2,
   "metadata": {},
   "outputs": [],
   "source": [
    "# load dataset\n",
    "def load_data(file_name, sheet=0):\n",
    "    return pd.read_excel(file_name, sheet_name=sheet)"
   ]
  },
  {
   "cell_type": "code",
   "execution_count": 3,
   "metadata": {},
   "outputs": [
    {
     "name": "stdout",
     "output_type": "stream",
     "text": [
      "<class 'pandas.core.frame.DataFrame'>\n",
      "RangeIndex: 20000 entries, 0 to 19999\n",
      "Data columns (total 13 columns):\n",
      "transaction_id             20000 non-null int64\n",
      "product_id                 20000 non-null int64\n",
      "customer_id                20000 non-null int64\n",
      "transaction_date           20000 non-null datetime64[ns]\n",
      "online_order               19640 non-null float64\n",
      "order_status               20000 non-null object\n",
      "brand                      19803 non-null object\n",
      "product_line               19803 non-null object\n",
      "product_class              19803 non-null object\n",
      "product_size               19803 non-null object\n",
      "list_price                 20000 non-null float64\n",
      "standard_cost              19803 non-null float64\n",
      "product_first_sold_date    19802 non-null float64\n",
      "dtypes: datetime64[ns](1), float64(4), int64(3), object(5)\n",
      "memory usage: 2.0+ MB\n"
     ]
    }
   ],
   "source": [
    "# datasets\n",
    "transact = load_data(file_name = 'KPMG_VI_New_raw_data.xlsx',sheet=0)\n",
    "customer_demo = load_data(file_name = 'KPMG_VI_New_raw_data.xlsx',sheet=1)\n",
    "customer_address = load_data(file_name = 'KPMG_VI_New_raw_data.xlsx',sheet=2)\n",
    "\n",
    "transact.info()"
   ]
  },
  {
   "cell_type": "code",
   "execution_count": 4,
   "metadata": {},
   "outputs": [
    {
     "ename": "NameError",
     "evalue": "name 'X' is not defined",
     "output_type": "error",
     "traceback": [
      "\u001b[1;31m---------------------------------------------------------------------------\u001b[0m",
      "\u001b[1;31mNameError\u001b[0m                                 Traceback (most recent call last)",
      "\u001b[1;32m<ipython-input-4-e2cf02c9d74d>\u001b[0m in \u001b[0;36m<module>\u001b[1;34m\u001b[0m\n\u001b[1;32m----> 1\u001b[1;33m \u001b[0mX_train\u001b[0m\u001b[1;33m,\u001b[0m \u001b[0mX_test\u001b[0m\u001b[1;33m,\u001b[0m \u001b[0my_train\u001b[0m\u001b[1;33m,\u001b[0m \u001b[0my_test\u001b[0m \u001b[1;33m=\u001b[0m \u001b[0mtrain_test_split\u001b[0m\u001b[1;33m(\u001b[0m\u001b[0mX\u001b[0m\u001b[1;33m,\u001b[0m \u001b[0my\u001b[0m\u001b[1;33m,\u001b[0m \u001b[0mtest_size\u001b[0m\u001b[1;33m=\u001b[0m\u001b[1;36m0.3\u001b[0m\u001b[1;33m,\u001b[0m \u001b[0mrandom_state\u001b[0m\u001b[1;33m=\u001b[0m\u001b[1;36m1\u001b[0m\u001b[1;33m)\u001b[0m\u001b[1;33m\u001b[0m\u001b[1;33m\u001b[0m\u001b[0m\n\u001b[0m",
      "\u001b[1;31mNameError\u001b[0m: name 'X' is not defined"
     ]
    }
   ],
   "source": [
    "X_train, X_test, y_train, y_test = train_test_split(X, y, test_size=0.3, random_state=1)"
   ]
  },
  {
   "cell_type": "code",
   "execution_count": 5,
   "metadata": {},
   "outputs": [],
   "source": [
    "# copy datasets\n",
    "transact_copy = transact.copy()\n",
    "customer_demo_copy = customer_demo.copy()\n",
    "customer_address_copy = customer_address.copy()"
   ]
  },
  {
   "cell_type": "code",
   "execution_count": 6,
   "metadata": {},
   "outputs": [
    {
     "name": "stdout",
     "output_type": "stream",
     "text": [
      "<class 'pandas.core.frame.DataFrame'>\n",
      "RangeIndex: 19821 entries, 0 to 19820\n",
      "Data columns (total 13 columns):\n",
      "transaction_id             19821 non-null int64\n",
      "product_id                 19821 non-null int64\n",
      "customer_id                19821 non-null int64\n",
      "transaction_date           19821 non-null datetime64[ns]\n",
      "online_order               19467 non-null float64\n",
      "order_status               19821 non-null object\n",
      "brand                      19625 non-null object\n",
      "product_line               19625 non-null object\n",
      "product_class              19625 non-null object\n",
      "product_size               19625 non-null object\n",
      "list_price                 19821 non-null float64\n",
      "standard_cost              19625 non-null float64\n",
      "product_first_sold_date    19624 non-null float64\n",
      "dtypes: datetime64[ns](1), float64(4), int64(3), object(5)\n",
      "memory usage: 2.0+ MB\n"
     ]
    }
   ],
   "source": [
    "transact_appr = transact_copy[transact_copy['order_status']=='Approved']\n",
    "transact_appr.reset_index(inplace=True, drop=True)\n",
    "transact_appr.info()"
   ]
  },
  {
   "cell_type": "code",
   "execution_count": 7,
   "metadata": {},
   "outputs": [
    {
     "data": {
      "text/html": [
       "<div>\n",
       "<style scoped>\n",
       "    .dataframe tbody tr th:only-of-type {\n",
       "        vertical-align: middle;\n",
       "    }\n",
       "\n",
       "    .dataframe tbody tr th {\n",
       "        vertical-align: top;\n",
       "    }\n",
       "\n",
       "    .dataframe thead th {\n",
       "        text-align: right;\n",
       "    }\n",
       "</style>\n",
       "<table border=\"1\" class=\"dataframe\">\n",
       "  <thead>\n",
       "    <tr style=\"text-align: right;\">\n",
       "      <th></th>\n",
       "      <th>transaction_id</th>\n",
       "      <th>product_id</th>\n",
       "      <th>customer_id</th>\n",
       "      <th>transaction_date</th>\n",
       "      <th>online_order</th>\n",
       "      <th>order_status</th>\n",
       "      <th>brand</th>\n",
       "      <th>product_line</th>\n",
       "      <th>product_class</th>\n",
       "      <th>product_size</th>\n",
       "      <th>list_price</th>\n",
       "      <th>standard_cost</th>\n",
       "      <th>product_first_sold_date</th>\n",
       "    </tr>\n",
       "  </thead>\n",
       "  <tbody>\n",
       "    <tr>\n",
       "      <td>0</td>\n",
       "      <td>94</td>\n",
       "      <td>86</td>\n",
       "      <td>1</td>\n",
       "      <td>2017-12-23</td>\n",
       "      <td>0.0</td>\n",
       "      <td>Approved</td>\n",
       "      <td>OHM Cycles</td>\n",
       "      <td>Standard</td>\n",
       "      <td>medium</td>\n",
       "      <td>medium</td>\n",
       "      <td>235.63</td>\n",
       "      <td>125.07</td>\n",
       "      <td>38482.0</td>\n",
       "    </tr>\n",
       "    <tr>\n",
       "      <td>1</td>\n",
       "      <td>3765</td>\n",
       "      <td>38</td>\n",
       "      <td>1</td>\n",
       "      <td>2017-04-06</td>\n",
       "      <td>1.0</td>\n",
       "      <td>Approved</td>\n",
       "      <td>Solex</td>\n",
       "      <td>Standard</td>\n",
       "      <td>medium</td>\n",
       "      <td>medium</td>\n",
       "      <td>1577.53</td>\n",
       "      <td>826.51</td>\n",
       "      <td>39526.0</td>\n",
       "    </tr>\n",
       "    <tr>\n",
       "      <td>2</td>\n",
       "      <td>5157</td>\n",
       "      <td>47</td>\n",
       "      <td>1</td>\n",
       "      <td>2017-05-11</td>\n",
       "      <td>1.0</td>\n",
       "      <td>Approved</td>\n",
       "      <td>Trek Bicycles</td>\n",
       "      <td>Road</td>\n",
       "      <td>low</td>\n",
       "      <td>small</td>\n",
       "      <td>1720.70</td>\n",
       "      <td>1531.42</td>\n",
       "      <td>37823.0</td>\n",
       "    </tr>\n",
       "    <tr>\n",
       "      <td>3</td>\n",
       "      <td>9785</td>\n",
       "      <td>72</td>\n",
       "      <td>1</td>\n",
       "      <td>2017-01-05</td>\n",
       "      <td>0.0</td>\n",
       "      <td>Approved</td>\n",
       "      <td>Norco Bicycles</td>\n",
       "      <td>Standard</td>\n",
       "      <td>medium</td>\n",
       "      <td>medium</td>\n",
       "      <td>360.40</td>\n",
       "      <td>270.30</td>\n",
       "      <td>37873.0</td>\n",
       "    </tr>\n",
       "    <tr>\n",
       "      <td>4</td>\n",
       "      <td>13424</td>\n",
       "      <td>2</td>\n",
       "      <td>1</td>\n",
       "      <td>2017-02-21</td>\n",
       "      <td>0.0</td>\n",
       "      <td>Approved</td>\n",
       "      <td>Solex</td>\n",
       "      <td>Standard</td>\n",
       "      <td>medium</td>\n",
       "      <td>medium</td>\n",
       "      <td>71.49</td>\n",
       "      <td>53.62</td>\n",
       "      <td>38573.0</td>\n",
       "    </tr>\n",
       "  </tbody>\n",
       "</table>\n",
       "</div>"
      ],
      "text/plain": [
       "   transaction_id  product_id  customer_id transaction_date  online_order  \\\n",
       "0              94          86            1       2017-12-23           0.0   \n",
       "1            3765          38            1       2017-04-06           1.0   \n",
       "2            5157          47            1       2017-05-11           1.0   \n",
       "3            9785          72            1       2017-01-05           0.0   \n",
       "4           13424           2            1       2017-02-21           0.0   \n",
       "\n",
       "  order_status           brand product_line product_class product_size  \\\n",
       "0     Approved      OHM Cycles     Standard        medium       medium   \n",
       "1     Approved           Solex     Standard        medium       medium   \n",
       "2     Approved   Trek Bicycles         Road           low        small   \n",
       "3     Approved  Norco Bicycles     Standard        medium       medium   \n",
       "4     Approved           Solex     Standard        medium       medium   \n",
       "\n",
       "   list_price  standard_cost  product_first_sold_date  \n",
       "0      235.63         125.07                  38482.0  \n",
       "1     1577.53         826.51                  39526.0  \n",
       "2     1720.70        1531.42                  37823.0  \n",
       "3      360.40         270.30                  37873.0  \n",
       "4       71.49          53.62                  38573.0  "
      ]
     },
     "execution_count": 7,
     "metadata": {},
     "output_type": "execute_result"
    }
   ],
   "source": [
    "transact_appr.head()"
   ]
  },
  {
   "cell_type": "code",
   "execution_count": 8,
   "metadata": {},
   "outputs": [],
   "source": [
    "# transact_appr.groupby(by='customer_id')['standard_cost'].sum()\n",
    "\n",
    "def get_profit(df):\n",
    "    ID = df.groupby(by='customer_id')\n",
    "    profit = ID['list_price'].sum() - ID['standard_cost'].sum()\n",
    "    \n",
    "    return profit"
   ]
  },
  {
   "cell_type": "code",
   "execution_count": 9,
   "metadata": {},
   "outputs": [
    {
     "data": {
      "text/html": [
       "<div>\n",
       "<style scoped>\n",
       "    .dataframe tbody tr th:only-of-type {\n",
       "        vertical-align: middle;\n",
       "    }\n",
       "\n",
       "    .dataframe tbody tr th {\n",
       "        vertical-align: top;\n",
       "    }\n",
       "\n",
       "    .dataframe thead th {\n",
       "        text-align: right;\n",
       "    }\n",
       "</style>\n",
       "<table border=\"1\" class=\"dataframe\">\n",
       "  <thead>\n",
       "    <tr style=\"text-align: right;\">\n",
       "      <th></th>\n",
       "      <th>customer_id</th>\n",
       "      <th>profit</th>\n",
       "    </tr>\n",
       "  </thead>\n",
       "  <tbody>\n",
       "    <tr>\n",
       "      <td>0</td>\n",
       "      <td>1</td>\n",
       "      <td>3018.09</td>\n",
       "    </tr>\n",
       "    <tr>\n",
       "      <td>1</td>\n",
       "      <td>2</td>\n",
       "      <td>2226.26</td>\n",
       "    </tr>\n",
       "    <tr>\n",
       "      <td>2</td>\n",
       "      <td>3</td>\n",
       "      <td>3362.81</td>\n",
       "    </tr>\n",
       "    <tr>\n",
       "      <td>3</td>\n",
       "      <td>4</td>\n",
       "      <td>220.57</td>\n",
       "    </tr>\n",
       "    <tr>\n",
       "      <td>4</td>\n",
       "      <td>5</td>\n",
       "      <td>2394.94</td>\n",
       "    </tr>\n",
       "  </tbody>\n",
       "</table>\n",
       "</div>"
      ],
      "text/plain": [
       "   customer_id   profit\n",
       "0            1  3018.09\n",
       "1            2  2226.26\n",
       "2            3  3362.81\n",
       "3            4   220.57\n",
       "4            5  2394.94"
      ]
     },
     "execution_count": 9,
     "metadata": {},
     "output_type": "execute_result"
    }
   ],
   "source": [
    "profit_df = pd.DataFrame(get_profit(transact_appr), columns=['profit'])\n",
    "profit_df.reset_index(inplace=True)\n",
    "profit_df.head()"
   ]
  },
  {
   "cell_type": "code",
   "execution_count": 10,
   "metadata": {},
   "outputs": [
    {
     "name": "stdout",
     "output_type": "stream",
     "text": [
      "<class 'pandas.core.frame.DataFrame'>\n",
      "RangeIndex: 4000 entries, 0 to 3999\n",
      "Data columns (total 17 columns):\n",
      "customer_id                            4000 non-null int64\n",
      "address                                4000 non-null object\n",
      "postcode                               4000 non-null int64\n",
      "state                                  4000 non-null object\n",
      "country                                4000 non-null object\n",
      "property_valuation                     4000 non-null int64\n",
      "first_name                             4000 non-null object\n",
      "last_name                              3875 non-null object\n",
      "gender                                 4000 non-null object\n",
      "past_3_years_bike_related_purchases    4000 non-null int64\n",
      "DOB                                    3913 non-null datetime64[ns]\n",
      "job_title                              3494 non-null object\n",
      "job_industry_category                  3344 non-null object\n",
      "wealth_segment                         4000 non-null object\n",
      "deceased_indicator                     4000 non-null object\n",
      "owns_car                               4000 non-null object\n",
      "tenure                                 3913 non-null float64\n",
      "dtypes: datetime64[ns](1), float64(1), int64(4), object(11)\n",
      "memory usage: 531.4+ KB\n"
     ]
    }
   ],
   "source": [
    "customer_data = pd.concat([customer_address_copy,customer_demo_copy.drop('customer_id', axis=1)], axis=1)\n",
    "customer_data.info()"
   ]
  },
  {
   "cell_type": "code",
   "execution_count": 11,
   "metadata": {},
   "outputs": [
    {
     "name": "stdout",
     "output_type": "stream",
     "text": [
      "<class 'pandas.core.frame.DataFrame'>\n",
      "Int64Index: 3493 entries, 0 to 3492\n",
      "Data columns (total 18 columns):\n",
      "customer_id                            3493 non-null int64\n",
      "profit                                 3493 non-null float64\n",
      "address                                3492 non-null object\n",
      "postcode                               3492 non-null float64\n",
      "state                                  3492 non-null object\n",
      "country                                3492 non-null object\n",
      "property_valuation                     3492 non-null float64\n",
      "first_name                             3492 non-null object\n",
      "last_name                              3380 non-null object\n",
      "gender                                 3492 non-null object\n",
      "past_3_years_bike_related_purchases    3492 non-null float64\n",
      "DOB                                    3416 non-null datetime64[ns]\n",
      "job_title                              3069 non-null object\n",
      "job_industry_category                  2931 non-null object\n",
      "wealth_segment                         3492 non-null object\n",
      "deceased_indicator                     3492 non-null object\n",
      "owns_car                               3492 non-null object\n",
      "tenure                                 3416 non-null float64\n",
      "dtypes: datetime64[ns](1), float64(5), int64(1), object(11)\n",
      "memory usage: 518.5+ KB\n"
     ]
    }
   ],
   "source": [
    "data = pd.merge(profit_df, customer_data, how='left', on='customer_id')\n",
    "data.info()"
   ]
  },
  {
   "cell_type": "code",
   "execution_count": 14,
   "metadata": {},
   "outputs": [
    {
     "data": {
      "text/html": [
       "<div>\n",
       "<style scoped>\n",
       "    .dataframe tbody tr th:only-of-type {\n",
       "        vertical-align: middle;\n",
       "    }\n",
       "\n",
       "    .dataframe tbody tr th {\n",
       "        vertical-align: top;\n",
       "    }\n",
       "\n",
       "    .dataframe thead th {\n",
       "        text-align: right;\n",
       "    }\n",
       "</style>\n",
       "<table border=\"1\" class=\"dataframe\">\n",
       "  <thead>\n",
       "    <tr style=\"text-align: right;\">\n",
       "      <th></th>\n",
       "      <th>profit</th>\n",
       "      <th>state</th>\n",
       "      <th>property_valuation</th>\n",
       "      <th>gender</th>\n",
       "      <th>owns_car</th>\n",
       "      <th>past_3_years_bike_related_purchases</th>\n",
       "      <th>job_industry_category</th>\n",
       "      <th>wealth_segment</th>\n",
       "      <th>tenure</th>\n",
       "    </tr>\n",
       "  </thead>\n",
       "  <tbody>\n",
       "    <tr>\n",
       "      <td>0</td>\n",
       "      <td>3018.09</td>\n",
       "      <td>New South Wales</td>\n",
       "      <td>10.0</td>\n",
       "      <td>F</td>\n",
       "      <td>Yes</td>\n",
       "      <td>93.0</td>\n",
       "      <td>Health</td>\n",
       "      <td>Mass Customer</td>\n",
       "      <td>11.0</td>\n",
       "    </tr>\n",
       "    <tr>\n",
       "      <td>1</td>\n",
       "      <td>2226.26</td>\n",
       "      <td>New South Wales</td>\n",
       "      <td>10.0</td>\n",
       "      <td>Male</td>\n",
       "      <td>Yes</td>\n",
       "      <td>81.0</td>\n",
       "      <td>Financial Services</td>\n",
       "      <td>Mass Customer</td>\n",
       "      <td>16.0</td>\n",
       "    </tr>\n",
       "    <tr>\n",
       "      <td>2</td>\n",
       "      <td>3362.81</td>\n",
       "      <td>QLD</td>\n",
       "      <td>9.0</td>\n",
       "      <td>Male</td>\n",
       "      <td>Yes</td>\n",
       "      <td>61.0</td>\n",
       "      <td>Property</td>\n",
       "      <td>Mass Customer</td>\n",
       "      <td>15.0</td>\n",
       "    </tr>\n",
       "    <tr>\n",
       "      <td>3</td>\n",
       "      <td>220.57</td>\n",
       "      <td>New South Wales</td>\n",
       "      <td>4.0</td>\n",
       "      <td>Male</td>\n",
       "      <td>No</td>\n",
       "      <td>33.0</td>\n",
       "      <td>IT</td>\n",
       "      <td>Mass Customer</td>\n",
       "      <td>7.0</td>\n",
       "    </tr>\n",
       "    <tr>\n",
       "      <td>4</td>\n",
       "      <td>2394.94</td>\n",
       "      <td>VIC</td>\n",
       "      <td>9.0</td>\n",
       "      <td>Female</td>\n",
       "      <td>Yes</td>\n",
       "      <td>56.0</td>\n",
       "      <td>NaN</td>\n",
       "      <td>Affluent Customer</td>\n",
       "      <td>8.0</td>\n",
       "    </tr>\n",
       "  </tbody>\n",
       "</table>\n",
       "</div>"
      ],
      "text/plain": [
       "    profit            state  property_valuation  gender owns_car  \\\n",
       "0  3018.09  New South Wales                10.0       F      Yes   \n",
       "1  2226.26  New South Wales                10.0    Male      Yes   \n",
       "2  3362.81              QLD                 9.0    Male      Yes   \n",
       "3   220.57  New South Wales                 4.0    Male       No   \n",
       "4  2394.94              VIC                 9.0  Female      Yes   \n",
       "\n",
       "   past_3_years_bike_related_purchases job_industry_category  \\\n",
       "0                                 93.0                Health   \n",
       "1                                 81.0    Financial Services   \n",
       "2                                 61.0              Property   \n",
       "3                                 33.0                    IT   \n",
       "4                                 56.0                   NaN   \n",
       "\n",
       "      wealth_segment  tenure  \n",
       "0      Mass Customer    11.0  \n",
       "1      Mass Customer    16.0  \n",
       "2      Mass Customer    15.0  \n",
       "3      Mass Customer     7.0  \n",
       "4  Affluent Customer     8.0  "
      ]
     },
     "execution_count": 14,
     "metadata": {},
     "output_type": "execute_result"
    }
   ],
   "source": [
    "final_data = data[['profit', 'state', 'property_valuation', 'gender', 'owns_car', 'past_3_years_bike_related_purchases', 'job_industry_category',\\\n",
    "                  'wealth_segment', 'tenure']]\n",
    "final_data.head()"
   ]
  },
  {
   "cell_type": "code",
   "execution_count": 15,
   "metadata": {},
   "outputs": [
    {
     "name": "stderr",
     "output_type": "stream",
     "text": [
      "C:\\Users\\iDAFAdmin\\Anaconda3\\lib\\site-packages\\pandas\\core\\generic.py:6786: SettingWithCopyWarning: \n",
      "A value is trying to be set on a copy of a slice from a DataFrame\n",
      "\n",
      "See the caveats in the documentation: http://pandas.pydata.org/pandas-docs/stable/user_guide/indexing.html#returning-a-view-versus-a-copy\n",
      "  self._update_inplace(new_data)\n"
     ]
    }
   ],
   "source": [
    "final_data['gender'].replace({'M':'Male', 'Femal':'Female', 'F':'Female', '247':'Female', 'U':'Female'}, inplace=True)\n",
    "\n",
    "final_data['state'].replace({'Victoria' : 'VIC', 'New South Wales' : 'NSW'}, inplace=True)"
   ]
  },
  {
   "cell_type": "code",
   "execution_count": 16,
   "metadata": {},
   "outputs": [
    {
     "name": "stderr",
     "output_type": "stream",
     "text": [
      "C:\\Users\\iDAFAdmin\\Anaconda3\\lib\\site-packages\\pandas\\core\\generic.py:6287: SettingWithCopyWarning: \n",
      "A value is trying to be set on a copy of a slice from a DataFrame\n",
      "\n",
      "See the caveats in the documentation: http://pandas.pydata.org/pandas-docs/stable/user_guide/indexing.html#returning-a-view-versus-a-copy\n",
      "  self._update_inplace(new_data)\n"
     ]
    }
   ],
   "source": [
    "# fill missing values\n",
    "\n",
    "final_data['state'].fillna(final_data['state'].mode()[0], inplace=True)\n",
    "final_data['property_valuation'].fillna(final_data.property_valuation.mean(), inplace=True)\n",
    "final_data['gender'].fillna(final_data['gender'].mode()[0], inplace=True)\n",
    "final_data['past_3_years_bike_related_purchases'].fillna(final_data['past_3_years_bike_related_purchases'].mean(),\\\n",
    "                                                         inplace=True)\n",
    "final_data['wealth_segment'].fillna(final_data['wealth_segment'].mode()[0], inplace=True)\n",
    "final_data['owns_car'].fillna(final_data['owns_car'].mode()[0], inplace=True)\n",
    "final_data['tenure'].fillna(final_data['tenure'].mean(), inplace=True)\n",
    "final_data['job_industry_category'].fillna(final_data['job_industry_category'].mode()[0], inplace=True)"
   ]
  },
  {
   "cell_type": "code",
   "execution_count": 17,
   "metadata": {},
   "outputs": [],
   "source": [
    "state_mode = final_data['state'].mode()[0], \n",
    "pv_mean = final_data.property_valuation.mean(), \n",
    "gender_mode = final_data['gender'].mode()[0]\n",
    "pybrp = final_data['past_3_years_bike_related_purchases'].mode()[0]\n",
    "wealth_seg = final_data['wealth_segment'].mode()[0]\n",
    "owns_car = final_data['owns_car'].mode()[0]\n",
    "ten = final_data['tenure'].mean()\n",
    "jic = final_data['job_industry_category'].mode()[0]"
   ]
  },
  {
   "cell_type": "code",
   "execution_count": 18,
   "metadata": {},
   "outputs": [
    {
     "data": {
      "text/plain": [
       "0    Manufacturing\n",
       "dtype: object"
      ]
     },
     "execution_count": 18,
     "metadata": {},
     "output_type": "execute_result"
    }
   ],
   "source": [
    "final_data['job_industry_category'].mode()"
   ]
  },
  {
   "cell_type": "code",
   "execution_count": 19,
   "metadata": {},
   "outputs": [],
   "source": [
    "# replace_vals = {'state':1, 'property_valuation':7.52, 'gender':1, 'past_3_years_bike_related_purchases':48.81, \\\n",
    "#                'wealth_segment': 2, 'owns_car':1, 'tenure':10.68, 'job_industry_category':4}"
   ]
  },
  {
   "cell_type": "code",
   "execution_count": 20,
   "metadata": {},
   "outputs": [
    {
     "data": {
      "text/plain": [
       "profit                                 0\n",
       "state                                  0\n",
       "property_valuation                     0\n",
       "gender                                 0\n",
       "owns_car                               0\n",
       "past_3_years_bike_related_purchases    0\n",
       "job_industry_category                  0\n",
       "wealth_segment                         0\n",
       "tenure                                 0\n",
       "dtype: int64"
      ]
     },
     "execution_count": 20,
     "metadata": {},
     "output_type": "execute_result"
    }
   ],
   "source": [
    "final_data.isnull().sum()"
   ]
  },
  {
   "cell_type": "code",
   "execution_count": 21,
   "metadata": {},
   "outputs": [],
   "source": [
    "# label encoding\n",
    "final_data['gender'].replace({'Female' : 1, 'Male' : 2}, inplace=True)\n",
    "final_data['job_industry_category'].replace({'Entertainment' : 1, 'Telecommunications' : 2, 'IT' : 3, 'Manufacturing' : 4, 'Financial Services' : 5, 'Retail' : 6, 'Health' : 7, 'Property' : 8, 'Argiculture' : 9}, inplace=True)\n",
    "final_data['state'].replace({'NSW' : 1, 'VIC' : 2, 'QLD' : 3}, inplace=True)\n",
    "final_data['wealth_segment'].replace({'Affluent Customer' : 1, 'Mass Customer' : 2, 'High Net Worth' : 3}, inplace=True)\n",
    "final_data['owns_car'].replace({'Yes' : 1, 'No' : 2}, inplace=True)"
   ]
  },
  {
   "cell_type": "code",
   "execution_count": 22,
   "metadata": {},
   "outputs": [
    {
     "data": {
      "text/html": [
       "<div>\n",
       "<style scoped>\n",
       "    .dataframe tbody tr th:only-of-type {\n",
       "        vertical-align: middle;\n",
       "    }\n",
       "\n",
       "    .dataframe tbody tr th {\n",
       "        vertical-align: top;\n",
       "    }\n",
       "\n",
       "    .dataframe thead th {\n",
       "        text-align: right;\n",
       "    }\n",
       "</style>\n",
       "<table border=\"1\" class=\"dataframe\">\n",
       "  <thead>\n",
       "    <tr style=\"text-align: right;\">\n",
       "      <th></th>\n",
       "      <th>profit</th>\n",
       "      <th>state</th>\n",
       "      <th>property_valuation</th>\n",
       "      <th>gender</th>\n",
       "      <th>owns_car</th>\n",
       "      <th>past_3_years_bike_related_purchases</th>\n",
       "      <th>job_industry_category</th>\n",
       "      <th>wealth_segment</th>\n",
       "      <th>tenure</th>\n",
       "    </tr>\n",
       "  </thead>\n",
       "  <tbody>\n",
       "    <tr>\n",
       "      <td>0</td>\n",
       "      <td>3018.09</td>\n",
       "      <td>1</td>\n",
       "      <td>10.0</td>\n",
       "      <td>1</td>\n",
       "      <td>1</td>\n",
       "      <td>93.0</td>\n",
       "      <td>7</td>\n",
       "      <td>2</td>\n",
       "      <td>11.0</td>\n",
       "    </tr>\n",
       "    <tr>\n",
       "      <td>1</td>\n",
       "      <td>2226.26</td>\n",
       "      <td>1</td>\n",
       "      <td>10.0</td>\n",
       "      <td>2</td>\n",
       "      <td>1</td>\n",
       "      <td>81.0</td>\n",
       "      <td>5</td>\n",
       "      <td>2</td>\n",
       "      <td>16.0</td>\n",
       "    </tr>\n",
       "    <tr>\n",
       "      <td>2</td>\n",
       "      <td>3362.81</td>\n",
       "      <td>3</td>\n",
       "      <td>9.0</td>\n",
       "      <td>2</td>\n",
       "      <td>1</td>\n",
       "      <td>61.0</td>\n",
       "      <td>8</td>\n",
       "      <td>2</td>\n",
       "      <td>15.0</td>\n",
       "    </tr>\n",
       "    <tr>\n",
       "      <td>3</td>\n",
       "      <td>220.57</td>\n",
       "      <td>1</td>\n",
       "      <td>4.0</td>\n",
       "      <td>2</td>\n",
       "      <td>2</td>\n",
       "      <td>33.0</td>\n",
       "      <td>3</td>\n",
       "      <td>2</td>\n",
       "      <td>7.0</td>\n",
       "    </tr>\n",
       "    <tr>\n",
       "      <td>4</td>\n",
       "      <td>2394.94</td>\n",
       "      <td>2</td>\n",
       "      <td>9.0</td>\n",
       "      <td>1</td>\n",
       "      <td>1</td>\n",
       "      <td>56.0</td>\n",
       "      <td>4</td>\n",
       "      <td>1</td>\n",
       "      <td>8.0</td>\n",
       "    </tr>\n",
       "  </tbody>\n",
       "</table>\n",
       "</div>"
      ],
      "text/plain": [
       "    profit  state  property_valuation  gender  owns_car  \\\n",
       "0  3018.09      1                10.0       1         1   \n",
       "1  2226.26      1                10.0       2         1   \n",
       "2  3362.81      3                 9.0       2         1   \n",
       "3   220.57      1                 4.0       2         2   \n",
       "4  2394.94      2                 9.0       1         1   \n",
       "\n",
       "   past_3_years_bike_related_purchases  job_industry_category  wealth_segment  \\\n",
       "0                                 93.0                      7               2   \n",
       "1                                 81.0                      5               2   \n",
       "2                                 61.0                      8               2   \n",
       "3                                 33.0                      3               2   \n",
       "4                                 56.0                      4               1   \n",
       "\n",
       "   tenure  \n",
       "0    11.0  \n",
       "1    16.0  \n",
       "2    15.0  \n",
       "3     7.0  \n",
       "4     8.0  "
      ]
     },
     "execution_count": 22,
     "metadata": {},
     "output_type": "execute_result"
    }
   ],
   "source": [
    "final_data.head()"
   ]
  },
  {
   "cell_type": "code",
   "execution_count": 158,
   "metadata": {},
   "outputs": [],
   "source": [
    "# final_data.to_csv('training_data_label_encoded.csv', index=False)"
   ]
  },
  {
   "cell_type": "code",
   "execution_count": 98,
   "metadata": {},
   "outputs": [],
   "source": [
    "# def get_data(excel_sheet, sheet: int=0, file: bool=True):\n",
    "#     features = ['state', 'country', 'property_valuation', 'gender', 'owns_car', 'past_3_years_bike_related_purchases', 'job_industry_category',\\\n",
    "#                   'wealth_segment', 'tenure']\n",
    "#     data = load_data(file_name=excel_sheet, sheet=sheet)\n",
    "#     data_new = data[features]\n",
    "#     return data_new"
   ]
  },
  {
   "cell_type": "code",
   "execution_count": 23,
   "metadata": {},
   "outputs": [
    {
     "data": {
      "text/html": [
       "<div>\n",
       "<style scoped>\n",
       "    .dataframe tbody tr th:only-of-type {\n",
       "        vertical-align: middle;\n",
       "    }\n",
       "\n",
       "    .dataframe tbody tr th {\n",
       "        vertical-align: top;\n",
       "    }\n",
       "\n",
       "    .dataframe thead th {\n",
       "        text-align: right;\n",
       "    }\n",
       "</style>\n",
       "<table border=\"1\" class=\"dataframe\">\n",
       "  <thead>\n",
       "    <tr style=\"text-align: right;\">\n",
       "      <th></th>\n",
       "      <th>profit</th>\n",
       "      <th>state</th>\n",
       "      <th>property_valuation</th>\n",
       "      <th>gender</th>\n",
       "      <th>owns_car</th>\n",
       "      <th>past_3_years_bike_related_purchases</th>\n",
       "      <th>job_industry_category</th>\n",
       "      <th>wealth_segment</th>\n",
       "      <th>tenure</th>\n",
       "    </tr>\n",
       "  </thead>\n",
       "  <tbody>\n",
       "    <tr>\n",
       "      <td>0</td>\n",
       "      <td>3018.09</td>\n",
       "      <td>1</td>\n",
       "      <td>10.0</td>\n",
       "      <td>1</td>\n",
       "      <td>1</td>\n",
       "      <td>93.0</td>\n",
       "      <td>7</td>\n",
       "      <td>2</td>\n",
       "      <td>11.0</td>\n",
       "    </tr>\n",
       "    <tr>\n",
       "      <td>1</td>\n",
       "      <td>2226.26</td>\n",
       "      <td>1</td>\n",
       "      <td>10.0</td>\n",
       "      <td>2</td>\n",
       "      <td>1</td>\n",
       "      <td>81.0</td>\n",
       "      <td>5</td>\n",
       "      <td>2</td>\n",
       "      <td>16.0</td>\n",
       "    </tr>\n",
       "    <tr>\n",
       "      <td>2</td>\n",
       "      <td>3362.81</td>\n",
       "      <td>3</td>\n",
       "      <td>9.0</td>\n",
       "      <td>2</td>\n",
       "      <td>1</td>\n",
       "      <td>61.0</td>\n",
       "      <td>8</td>\n",
       "      <td>2</td>\n",
       "      <td>15.0</td>\n",
       "    </tr>\n",
       "    <tr>\n",
       "      <td>3</td>\n",
       "      <td>220.57</td>\n",
       "      <td>1</td>\n",
       "      <td>4.0</td>\n",
       "      <td>2</td>\n",
       "      <td>2</td>\n",
       "      <td>33.0</td>\n",
       "      <td>3</td>\n",
       "      <td>2</td>\n",
       "      <td>7.0</td>\n",
       "    </tr>\n",
       "    <tr>\n",
       "      <td>4</td>\n",
       "      <td>2394.94</td>\n",
       "      <td>2</td>\n",
       "      <td>9.0</td>\n",
       "      <td>1</td>\n",
       "      <td>1</td>\n",
       "      <td>56.0</td>\n",
       "      <td>4</td>\n",
       "      <td>1</td>\n",
       "      <td>8.0</td>\n",
       "    </tr>\n",
       "  </tbody>\n",
       "</table>\n",
       "</div>"
      ],
      "text/plain": [
       "    profit  state  property_valuation  gender  owns_car  \\\n",
       "0  3018.09      1                10.0       1         1   \n",
       "1  2226.26      1                10.0       2         1   \n",
       "2  3362.81      3                 9.0       2         1   \n",
       "3   220.57      1                 4.0       2         2   \n",
       "4  2394.94      2                 9.0       1         1   \n",
       "\n",
       "   past_3_years_bike_related_purchases  job_industry_category  wealth_segment  \\\n",
       "0                                 93.0                      7               2   \n",
       "1                                 81.0                      5               2   \n",
       "2                                 61.0                      8               2   \n",
       "3                                 33.0                      3               2   \n",
       "4                                 56.0                      4               1   \n",
       "\n",
       "   tenure  \n",
       "0    11.0  \n",
       "1    16.0  \n",
       "2    15.0  \n",
       "3     7.0  \n",
       "4     8.0  "
      ]
     },
     "execution_count": 23,
     "metadata": {},
     "output_type": "execute_result"
    }
   ],
   "source": [
    "final_data.head()"
   ]
  },
  {
   "cell_type": "code",
   "execution_count": 24,
   "metadata": {},
   "outputs": [],
   "source": [
    "# states = pd.get_dummies(final_data['state'],drop_first=True)\n",
    "# countrys = pd.get_dummies(final_data['country'],drop_first=True)\n",
    "# job_industry_cats = pd.get_dummies(final_data['job_industry_category'],drop_first=True)\n",
    "# gender = pd.get_dummies(final_data['gender'],drop_first=True)\n",
    "# wealth_segs = pd.get_dummies(final_data['wealth_segment'],drop_first=True)\n",
    "# car_owns = pd.get_dummies(final_data['owns_car'],drop_first=True)\n",
    "\n",
    "\n",
    "# data = pd.concat([states, countrys, job_industry_cats, gender, wealth_segs, car_owns], axis=1)\n",
    "# final_data_2 = pd.concat([final_data.drop(['state', 'country', 'job_industry_category', 'gender', \\\n",
    "#                                            'wealth_segment', 'owns_car'], axis=1), data], axis=1)\n",
    "\n",
    "# final_data_2.head()"
   ]
  },
  {
   "cell_type": "code",
   "execution_count": 67,
   "metadata": {},
   "outputs": [],
   "source": [
    "X = final_data.drop('profit', axis=1)\n",
    "y = final_data['profit']"
   ]
  },
  {
   "cell_type": "code",
   "execution_count": 68,
   "metadata": {},
   "outputs": [],
   "source": [
    "scaler  = StandardScaler()\n",
    "X = scaler.fit_transform(X)\n",
    "\n",
    "with open('scaler.pickle', 'wb') as f:\n",
    "    pickle.dump(scaler, f)"
   ]
  },
  {
   "cell_type": "code",
   "execution_count": 74,
   "metadata": {},
   "outputs": [
    {
     "data": {
      "text/plain": [
       "array([[-8.44552532e-01,  8.79402544e-01, -9.48912670e-01, ...,\n",
       "         1.12221145e+00, -1.82300416e-02,  5.62295675e-02],\n",
       "       [-8.44552532e-01,  8.79402544e-01,  1.05383776e+00, ...,\n",
       "        -2.26146583e-02, -1.82300416e-02,  9.47139599e-01],\n",
       "       [ 1.64702010e+00,  5.25329711e-01,  1.05383776e+00, ...,\n",
       "         1.69462450e+00, -1.82300416e-02,  7.68957593e-01],\n",
       "       ...,\n",
       "       [-8.44552532e-01,  1.23347538e+00,  1.05383776e+00, ...,\n",
       "        -5.95027712e-01, -1.82300416e-02, -6.56498457e-01],\n",
       "       [ 4.01233783e-01,  8.79402544e-01, -9.48912670e-01, ...,\n",
       "        -2.31226687e+00, -1.43328638e+00,  1.12532161e+00],\n",
       "       [-8.44552532e-01,  0.00000000e+00, -9.48912670e-01, ...,\n",
       "        -5.95027712e-01, -1.82300416e-02,  3.16514825e-16]])"
      ]
     },
     "execution_count": 74,
     "metadata": {},
     "output_type": "execute_result"
    }
   ],
   "source": [
    "X"
   ]
  },
  {
   "cell_type": "code",
   "execution_count": 63,
   "metadata": {},
   "outputs": [],
   "source": [
    "# y_scaler = StandardScaler()\n",
    "# y = y_scaler.fit_transform(np.array(y).reshape(-1,1))"
   ]
  },
  {
   "cell_type": "code",
   "execution_count": 69,
   "metadata": {},
   "outputs": [],
   "source": [
    "X_train, X_test, y_train, y_test = train_test_split(X, y, test_size=0.3, random_state=42)"
   ]
  },
  {
   "cell_type": "code",
   "execution_count": 70,
   "metadata": {},
   "outputs": [],
   "source": [
    "lasso = Lasso()\n",
    "ridge = Ridge()\n",
    "elastic_net = ElasticNet()"
   ]
  },
  {
   "cell_type": "code",
   "execution_count": 71,
   "metadata": {},
   "outputs": [
    {
     "name": "stdout",
     "output_type": "stream",
     "text": [
      "Lasso model has an RMSE: 1829.289405286639\n",
      "Ridge model has an RMSE: 1829.3564262380673\n",
      "Elastic Net model has an RMSE: 1827.6301324837477\n"
     ]
    }
   ],
   "source": [
    "lasso.fit(X_train, y_train)\n",
    "lasso_pred = lasso.predict(X_test)\n",
    "print(f'Lasso model has an RMSE: {sqrt(mean_squared_error(y_test, lasso_pred))}')\n",
    "\n",
    "ridge.fit(X_train, y_train)\n",
    "ridge_pred = ridge.predict(X_test)\n",
    "print(f'Ridge model has an RMSE: {sqrt(mean_squared_error(y_test, ridge_pred))}')\n",
    "\n",
    "elastic_net.fit(X_train, y_train)\n",
    "elasticNet_pred = elastic_net.predict(X_test)\n",
    "print(f'Elastic Net model has an RMSE: {sqrt(mean_squared_error(y_test, elasticNet_pred))}')"
   ]
  },
  {
   "cell_type": "code",
   "execution_count": 73,
   "metadata": {},
   "outputs": [
    {
     "data": {
      "text/plain": [
       "['Lasso_model.pkl']"
      ]
     },
     "execution_count": 73,
     "metadata": {},
     "output_type": "execute_result"
    }
   ],
   "source": [
    "joblib.dump(lasso, 'Lasso_model.pkl')"
   ]
  },
  {
   "cell_type": "code",
   "execution_count": 80,
   "metadata": {},
   "outputs": [
    {
     "data": {
      "text/plain": [
       "<matplotlib.collections.PathCollection at 0x2589345ff08>"
      ]
     },
     "execution_count": 80,
     "metadata": {},
     "output_type": "execute_result"
    },
    {
     "data": {
      "image/png": "[encoded data removed]",
      "text/plain": [
       "<Figure size 432x288 with 1 Axes>"
      ]
     },
     "metadata": {
      "needs_background": "light"
     },
     "output_type": "display_data"
    }
   ],
   "source": [
    "plt.scatter(y_test, lasso_pred)"
   ]
  },
  {
   "cell_type": "code",
   "execution_count": null,
   "metadata": {},
   "outputs": [],
   "source": []
  }
 ],
 "metadata": {
  "kernelspec": {
   "display_name": "Python 3",
   "language": "python",
   "name": "python3"
  },
  "language_info": {
   "codemirror_mode": {
    "name": "ipython",
    "version": 3
   },
   "file_extension": ".py",
   "mimetype": "text/x-python",
   "name": "python",
   "nbconvert_exporter": "python",
   "pygments_lexer": "ipython3",
   "version": "3.7.4"
  }
 },
 "nbformat": 4,
 "nbformat_minor": 4
}
