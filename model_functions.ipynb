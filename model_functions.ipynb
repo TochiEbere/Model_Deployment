{
 "cells": [
  {
   "cell_type": "code",
   "execution_count": 1,
   "metadata": {},
   "outputs": [],
   "source": [
    "# Import libraries\n",
    "import numpy as np\n",
    "import pandas as pd\n",
    "\n",
    "import joblib\n",
    "import matplotlib.pyplot as plt"
   ]
  },
  {
   "cell_type": "code",
   "execution_count": 2,
   "metadata": {},
   "outputs": [],
   "source": [
    "# load dataset\n",
    "\n",
    "def load_data(file_name, sheet=0):\n",
    "    return pd.read_excel(file_name, sheet_name=sheet)"
   ]
  },
  {
   "cell_type": "code",
   "execution_count": 3,
   "metadata": {},
   "outputs": [],
   "source": [
    "# get model features\n",
    "\n",
    "def get_feat():\n",
    "\n",
    "    state = input('State: ')\n",
    "    property_valuation = input('Property Valuation: ')\n",
    "    gender = input('Gender')\n",
    "    owns_car = input('Own a car (Yes/No): ')\n",
    "    past_3_years_bike_related_purchases = input('past_3_years_bike_related_purchases: ')\n",
    "    job_industry_category = input('job_industry_category: ')\n",
    "    wealth_segment = input('Wealth segment: ')\n",
    "    tenure = int(input('Tenure: '))\n",
    "    \n",
    "    dataframe = pd.DataFrame({'state':state, 'property_valuation':property_valuation, 'owns_car':owns_car, \\\n",
    "                            'past_3_years_bike_related_purchases':past_3_years_bike_related_purchases, \\\n",
    "                             'job_industry_category':job_industry_category, 'wealth_segment':wealth_segment, \\\n",
    "                             'tenure':tenure, 'gender':gender}, index=[0])\n",
    "    \n",
    "    return dataframe"
   ]
  },
  {
   "cell_type": "code",
   "execution_count": 4,
   "metadata": {},
   "outputs": [],
   "source": [
    "# perform label encoder\n",
    "\n",
    "def encode_cat(data:pd.DataFrame):\n",
    "    data['gender'].replace({'Female' : 1, 'Male' : 2}, inplace=True)\n",
    "    data['job_industry_category'].replace({'Entertainment' : 1, 'Telecommunications' : 2, 'IT' : 3, 'Manufacturing' : 4, 'Financial Services' : 5, 'Retail' : 6, 'Health' : 7, 'Property' : 8, 'Argiculture' : 9}, inplace=True)\n",
    "    data['state'].replace({'NSW' : 1, 'VIC' : 2, 'QLD' : 3}, inplace=True)\n",
    "    data['wealth_segment'].replace({'Affluent Customer' : 1, 'Mass Customer' : 2, 'High Net Worth' : 3}, inplace=True)\n",
    "    data['owns_car'].replace({'Yes' : 1, 'No' : 2}, inplace=True)\n",
    "    \n",
    "    return data"
   ]
  },
  {
   "cell_type": "code",
   "execution_count": 5,
   "metadata": {
    "slideshow": {
     "slide_type": "notes"
    }
   },
   "outputs": [],
   "source": [
    "# fill missing values\n",
    "\n",
    "def fill_missing_value(data:pd.DataFrame):\n",
    "    fill_with_vals = {'state':1, 'property_valuation':7.52, 'gender':1, 'past_3_years_bike_related_purchases':48.81, \\\n",
    "               'wealth_segment': 2, 'owns_car':1, 'tenure':10.68, 'job_industry_category':4}\n",
    "    features = data.columns\n",
    "    for feat in features:\n",
    "        if data[feat].values=='':\n",
    "            data[feat] = fill_with_vals[feat]\n",
    "    return data"
   ]
  },
  {
   "cell_type": "code",
   "execution_count": 6,
   "metadata": {},
   "outputs": [],
   "source": [
    "def scale(data):\n",
    "    scaler = joblib.load('scaler.pickle')\n",
    "    data = scaler.transform(data)\n",
    "    \n",
    "    return data"
   ]
  },
  {
   "cell_type": "code",
   "execution_count": 7,
   "metadata": {},
   "outputs": [],
   "source": [
    "def lasso_predict(data):\n",
    "    model = joblib.load('Lasso_model.pkl')\n",
    "    value = model.predict(data)\n",
    "    \n",
    "    return f'The estimated profit for this customer is: {value}'"
   ]
  },
  {
   "cell_type": "code",
   "execution_count": null,
   "metadata": {},
   "outputs": [],
   "source": []
  },
  {
   "cell_type": "code",
   "execution_count": 8,
   "metadata": {},
   "outputs": [
    {
     "name": "stdin",
     "output_type": "stream",
     "text": [
      "State:  QLD\n",
      "Property Valuation:  6\n",
      "Gender Male\n",
      "Own a car (Yes/No):  Yes\n",
      "past_3_years_bike_related_purchases:  86\n",
      "job_industry_category:  Manufacturing\n",
      "Wealth segment:  Mass Customer\n",
      "Tenure:  14\n"
     ]
    },
    {
     "data": {
      "text/html": [
       "<div>\n",
       "<style scoped>\n",
       "    .dataframe tbody tr th:only-of-type {\n",
       "        vertical-align: middle;\n",
       "    }\n",
       "\n",
       "    .dataframe tbody tr th {\n",
       "        vertical-align: top;\n",
       "    }\n",
       "\n",
       "    .dataframe thead th {\n",
       "        text-align: right;\n",
       "    }\n",
       "</style>\n",
       "<table border=\"1\" class=\"dataframe\">\n",
       "  <thead>\n",
       "    <tr style=\"text-align: right;\">\n",
       "      <th></th>\n",
       "      <th>state</th>\n",
       "      <th>property_valuation</th>\n",
       "      <th>owns_car</th>\n",
       "      <th>past_3_years_bike_related_purchases</th>\n",
       "      <th>job_industry_category</th>\n",
       "      <th>wealth_segment</th>\n",
       "      <th>tenure</th>\n",
       "      <th>gender</th>\n",
       "    </tr>\n",
       "  </thead>\n",
       "  <tbody>\n",
       "    <tr>\n",
       "      <td>0</td>\n",
       "      <td>QLD</td>\n",
       "      <td>6</td>\n",
       "      <td>Yes</td>\n",
       "      <td>86</td>\n",
       "      <td>Manufacturing</td>\n",
       "      <td>Mass Customer</td>\n",
       "      <td>14</td>\n",
       "      <td>Male</td>\n",
       "    </tr>\n",
       "  </tbody>\n",
       "</table>\n",
       "</div>"
      ],
      "text/plain": [
       "  state property_valuation owns_car past_3_years_bike_related_purchases  \\\n",
       "0   QLD                  6      Yes                                  86   \n",
       "\n",
       "  job_industry_category wealth_segment  tenure gender  \n",
       "0         Manufacturing  Mass Customer      14   Male  "
      ]
     },
     "execution_count": 8,
     "metadata": {},
     "output_type": "execute_result"
    }
   ],
   "source": [
    "df = get_feat()"
   ]
  },
  {
   "cell_type": "code",
   "execution_count": 9,
   "metadata": {},
   "outputs": [],
   "source": [
    "def get_price():\n",
    "    data = get_feat()\n",
    "    data = encode_cat(data)\n",
    "    data = fill_missing_value(data)\n",
    "    data = scale(data)\n",
    "    price = lasso_predict(data)\n",
    "    \n",
    "    return price"
   ]
  },
  {
   "cell_type": "code",
   "execution_count": 10,
   "metadata": {},
   "outputs": [
    {
     "name": "stdin",
     "output_type": "stream",
     "text": [
      "State:  QLD\n",
      "Property Valuation:  6\n",
      "Gender Male\n",
      "Own a car (Yes/No):  Yes\n",
      "past_3_years_bike_related_purchases:  86\n",
      "job_industry_category:  Manufacturing\n",
      "Wealth segment:  Mass Customer\n",
      "Tenure:  14\n"
     ]
    },
    {
     "name": "stderr",
     "output_type": "stream",
     "text": [
      "C:\\Users\\iDAFAdmin\\Anaconda3\\lib\\site-packages\\ipykernel_launcher.py:8: FutureWarning: elementwise comparison failed; returning scalar instead, but in the future will perform elementwise comparison\n",
      "  \n"
     ]
    },
    {
     "data": {
      "text/plain": [
       "'The estimated profit for this customer is: [-5469.45474242]'"
      ]
     },
     "execution_count": 10,
     "metadata": {},
     "output_type": "execute_result"
    }
   ],
   "source": [
    "get_price()"
   ]
  },
  {
   "cell_type": "code",
   "execution_count": null,
   "metadata": {},
   "outputs": [],
   "source": []
  }
 ],
 "metadata": {
  "kernelspec": {
   "display_name": "Python 3",
   "language": "python",
   "name": "python3"
  },
  "language_info": {
   "codemirror_mode": {
    "name": "ipython",
    "version": 3
   },
   "file_extension": ".py",
   "mimetype": "text/x-python",
   "name": "python",
   "nbconvert_exporter": "python",
   "pygments_lexer": "ipython3",
   "version": "3.7.4"
  }
 },
 "nbformat": 4,
 "nbformat_minor": 4
}
